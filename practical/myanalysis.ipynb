{
 "cells": [
  {
   "cell_type": "markdown",
   "metadata": {},
   "source": [
    "### QLSC612 Fundamentals of Neuro Data Science Practical Assessment [(The BrainHack School)](https://school.brainhackmtl.org)\n",
    "Emily Chen  \n",
    "May 31, 2020"
   ]
  },
  {
   "cell_type": "markdown",
   "metadata": {},
   "source": [
    "#### Acknowledgements\n",
    "This assignment used Dr. Jean-Baptiste Poline's [Introduction to Statistics in Python](https://github.com/neurodatascience/course-materials-2020/tree/master/lectures/14-may/02-intro-to-stats) lecture for reference. A complete video of the lecture can be found [here](https://www.youtube.com/watch?v=EYVV-9NjdSA&list=PLfqBzCl5BL3-m9BH5qi4u4QzoJBC8Ze72&index=13&t=0s). "
   ]
  },
  {
   "cell_type": "code",
   "execution_count": 206,
   "metadata": {},
   "outputs": [
    {
     "ename": "ModuleNotFoundError",
     "evalue": "No module named 'pandas.tools'",
     "output_type": "error",
     "traceback": [
      "\u001b[0;31m---------------------------------------------------------------------------\u001b[0m",
      "\u001b[0;31mModuleNotFoundError\u001b[0m                       Traceback (most recent call last)",
      "\u001b[0;32m<ipython-input-206-66ef4ac446eb>\u001b[0m in \u001b[0;36m<module>\u001b[0;34m\u001b[0m\n\u001b[1;32m      2\u001b[0m \u001b[0;32mimport\u001b[0m \u001b[0mpandas\u001b[0m \u001b[0;32mas\u001b[0m \u001b[0mpd\u001b[0m\u001b[0;34m\u001b[0m\u001b[0;34m\u001b[0m\u001b[0m\n\u001b[1;32m      3\u001b[0m \u001b[0;32mfrom\u001b[0m \u001b[0mpandas\u001b[0m \u001b[0;32mimport\u001b[0m \u001b[0mplotting\u001b[0m \u001b[0;32mas\u001b[0m \u001b[0mpdplt\u001b[0m\u001b[0;34m\u001b[0m\u001b[0;34m\u001b[0m\u001b[0m\n\u001b[0;32m----> 4\u001b[0;31m \u001b[0;32mfrom\u001b[0m \u001b[0mpandas\u001b[0m\u001b[0;34m.\u001b[0m\u001b[0mtools\u001b[0m \u001b[0;32mimport\u001b[0m \u001b[0mplotting\u001b[0m\u001b[0;34m\u001b[0m\u001b[0;34m\u001b[0m\u001b[0m\n\u001b[0m\u001b[1;32m      5\u001b[0m \u001b[0;34m\u001b[0m\u001b[0m\n\u001b[1;32m      6\u001b[0m \u001b[0;32mimport\u001b[0m \u001b[0mrandom\u001b[0m \u001b[0;32mas\u001b[0m \u001b[0mrd\u001b[0m\u001b[0;34m\u001b[0m\u001b[0;34m\u001b[0m\u001b[0m\n",
      "\u001b[0;31mModuleNotFoundError\u001b[0m: No module named 'pandas.tools'"
     ]
    }
   ],
   "source": [
    "#Import modules\n",
    "import pandas as pd\n",
    "from pandas import plotting as pdplt\n",
    "import random as rd\n",
    "import csv\n",
    "import numpy as np\n",
    "import scipy.stats\n",
    "import matplotlib.pyplot as plt"
   ]
  },
  {
   "cell_type": "markdown",
   "metadata": {},
   "source": [
    "**Step 1:** Load the `brainsize.csv`file and read it into a `pandas` data frame. \n",
    "\n",
    "Note: I will be using a GitHub repository link to the csv file rather than a path to a directory on my local machine to make this process more easily reproducible for others. "
   ]
  },
  {
   "cell_type": "code",
   "execution_count": 172,
   "metadata": {},
   "outputs": [
    {
     "data": {
      "text/html": [
       "<div>\n",
       "<style scoped>\n",
       "    .dataframe tbody tr th:only-of-type {\n",
       "        vertical-align: middle;\n",
       "    }\n",
       "\n",
       "    .dataframe tbody tr th {\n",
       "        vertical-align: top;\n",
       "    }\n",
       "\n",
       "    .dataframe thead th {\n",
       "        text-align: right;\n",
       "    }\n",
       "</style>\n",
       "<table border=\"1\" class=\"dataframe\">\n",
       "  <thead>\n",
       "    <tr style=\"text-align: right;\">\n",
       "      <th></th>\n",
       "      <th>Gender</th>\n",
       "      <th>FSIQ</th>\n",
       "      <th>VIQ</th>\n",
       "      <th>PIQ</th>\n",
       "      <th>Weight</th>\n",
       "      <th>Height</th>\n",
       "      <th>MRI_Count</th>\n",
       "    </tr>\n",
       "  </thead>\n",
       "  <tbody>\n",
       "    <tr>\n",
       "      <th>1</th>\n",
       "      <td>Female</td>\n",
       "      <td>133</td>\n",
       "      <td>132</td>\n",
       "      <td>124</td>\n",
       "      <td>118.0</td>\n",
       "      <td>64.5</td>\n",
       "      <td>816932</td>\n",
       "    </tr>\n",
       "    <tr>\n",
       "      <th>2</th>\n",
       "      <td>Male</td>\n",
       "      <td>140</td>\n",
       "      <td>150</td>\n",
       "      <td>124</td>\n",
       "      <td>NaN</td>\n",
       "      <td>72.5</td>\n",
       "      <td>1001121</td>\n",
       "    </tr>\n",
       "    <tr>\n",
       "      <th>3</th>\n",
       "      <td>Male</td>\n",
       "      <td>139</td>\n",
       "      <td>123</td>\n",
       "      <td>150</td>\n",
       "      <td>143.0</td>\n",
       "      <td>73.3</td>\n",
       "      <td>1038437</td>\n",
       "    </tr>\n",
       "    <tr>\n",
       "      <th>4</th>\n",
       "      <td>Male</td>\n",
       "      <td>133</td>\n",
       "      <td>129</td>\n",
       "      <td>128</td>\n",
       "      <td>172.0</td>\n",
       "      <td>68.8</td>\n",
       "      <td>965353</td>\n",
       "    </tr>\n",
       "    <tr>\n",
       "      <th>5</th>\n",
       "      <td>Female</td>\n",
       "      <td>137</td>\n",
       "      <td>132</td>\n",
       "      <td>134</td>\n",
       "      <td>147.0</td>\n",
       "      <td>65.0</td>\n",
       "      <td>951545</td>\n",
       "    </tr>\n",
       "  </tbody>\n",
       "</table>\n",
       "</div>"
      ],
      "text/plain": [
       "   Gender  FSIQ  VIQ  PIQ  Weight  Height  MRI_Count\n",
       "1  Female   133  132  124   118.0    64.5     816932\n",
       "2    Male   140  150  124     NaN    72.5    1001121\n",
       "3    Male   139  123  150   143.0    73.3    1038437\n",
       "4    Male   133  129  128   172.0    68.8     965353\n",
       "5  Female   137  132  134   147.0    65.0     951545"
      ]
     },
     "execution_count": 172,
     "metadata": {},
     "output_type": "execute_result"
    }
   ],
   "source": [
    "brainsize_file = ('https://raw.githubusercontent.com/emilyemchen/Chen-E-QLSC612/master/practical/brainsize.csv')\n",
    "brainsize = pd.read_csv(brainsize_file,sep=\";\",index_col=0,na_values=\".\") #Create pandas dataframe\n",
    "#sep=\";\" means the data is separated by semicolons\n",
    "#index_col=0 means the first column of the data is used as the row labels in the dataframe\n",
    "#na_values=\".\" means replacing values denoted as \".\" with \"NaN.\"\n",
    "brainsize.head() #Print beginning of file"
   ]
  },
  {
   "cell_type": "markdown",
   "metadata": {},
   "source": [
    "**_Step 1.1:_** Calculate statistics for the current dataframe. "
   ]
  },
  {
   "cell_type": "code",
   "execution_count": 173,
   "metadata": {},
   "outputs": [
    {
     "data": {
      "text/html": [
       "<div>\n",
       "<style scoped>\n",
       "    .dataframe tbody tr th:only-of-type {\n",
       "        vertical-align: middle;\n",
       "    }\n",
       "\n",
       "    .dataframe tbody tr th {\n",
       "        vertical-align: top;\n",
       "    }\n",
       "\n",
       "    .dataframe thead th {\n",
       "        text-align: right;\n",
       "    }\n",
       "</style>\n",
       "<table border=\"1\" class=\"dataframe\">\n",
       "  <thead>\n",
       "    <tr style=\"text-align: right;\">\n",
       "      <th></th>\n",
       "      <th>FSIQ</th>\n",
       "      <th>VIQ</th>\n",
       "      <th>PIQ</th>\n",
       "      <th>Weight</th>\n",
       "      <th>Height</th>\n",
       "      <th>MRI_Count</th>\n",
       "    </tr>\n",
       "  </thead>\n",
       "  <tbody>\n",
       "    <tr>\n",
       "      <th>count</th>\n",
       "      <td>40.000000</td>\n",
       "      <td>40.000000</td>\n",
       "      <td>40.00000</td>\n",
       "      <td>38.000000</td>\n",
       "      <td>39.000000</td>\n",
       "      <td>4.000000e+01</td>\n",
       "    </tr>\n",
       "    <tr>\n",
       "      <th>mean</th>\n",
       "      <td>113.450000</td>\n",
       "      <td>112.350000</td>\n",
       "      <td>111.02500</td>\n",
       "      <td>151.052632</td>\n",
       "      <td>68.525641</td>\n",
       "      <td>9.087550e+05</td>\n",
       "    </tr>\n",
       "    <tr>\n",
       "      <th>std</th>\n",
       "      <td>24.082071</td>\n",
       "      <td>23.616107</td>\n",
       "      <td>22.47105</td>\n",
       "      <td>23.478509</td>\n",
       "      <td>3.994649</td>\n",
       "      <td>7.228205e+04</td>\n",
       "    </tr>\n",
       "    <tr>\n",
       "      <th>min</th>\n",
       "      <td>77.000000</td>\n",
       "      <td>71.000000</td>\n",
       "      <td>72.00000</td>\n",
       "      <td>106.000000</td>\n",
       "      <td>62.000000</td>\n",
       "      <td>7.906190e+05</td>\n",
       "    </tr>\n",
       "    <tr>\n",
       "      <th>25%</th>\n",
       "      <td>89.750000</td>\n",
       "      <td>90.000000</td>\n",
       "      <td>88.25000</td>\n",
       "      <td>135.250000</td>\n",
       "      <td>66.000000</td>\n",
       "      <td>8.559185e+05</td>\n",
       "    </tr>\n",
       "    <tr>\n",
       "      <th>50%</th>\n",
       "      <td>116.500000</td>\n",
       "      <td>113.000000</td>\n",
       "      <td>115.00000</td>\n",
       "      <td>146.500000</td>\n",
       "      <td>68.000000</td>\n",
       "      <td>9.053990e+05</td>\n",
       "    </tr>\n",
       "    <tr>\n",
       "      <th>75%</th>\n",
       "      <td>135.500000</td>\n",
       "      <td>129.750000</td>\n",
       "      <td>128.00000</td>\n",
       "      <td>172.000000</td>\n",
       "      <td>70.500000</td>\n",
       "      <td>9.500780e+05</td>\n",
       "    </tr>\n",
       "    <tr>\n",
       "      <th>max</th>\n",
       "      <td>144.000000</td>\n",
       "      <td>150.000000</td>\n",
       "      <td>150.00000</td>\n",
       "      <td>192.000000</td>\n",
       "      <td>77.000000</td>\n",
       "      <td>1.079549e+06</td>\n",
       "    </tr>\n",
       "  </tbody>\n",
       "</table>\n",
       "</div>"
      ],
      "text/plain": [
       "             FSIQ         VIQ        PIQ      Weight     Height     MRI_Count\n",
       "count   40.000000   40.000000   40.00000   38.000000  39.000000  4.000000e+01\n",
       "mean   113.450000  112.350000  111.02500  151.052632  68.525641  9.087550e+05\n",
       "std     24.082071   23.616107   22.47105   23.478509   3.994649  7.228205e+04\n",
       "min     77.000000   71.000000   72.00000  106.000000  62.000000  7.906190e+05\n",
       "25%     89.750000   90.000000   88.25000  135.250000  66.000000  8.559185e+05\n",
       "50%    116.500000  113.000000  115.00000  146.500000  68.000000  9.053990e+05\n",
       "75%    135.500000  129.750000  128.00000  172.000000  70.500000  9.500780e+05\n",
       "max    144.000000  150.000000  150.00000  192.000000  77.000000  1.079549e+06"
      ]
     },
     "execution_count": 173,
     "metadata": {},
     "output_type": "execute_result"
    }
   ],
   "source": [
    "brainsize.describe()"
   ]
  },
  {
   "cell_type": "markdown",
   "metadata": {},
   "source": [
    "**_Step 1.2:_** Plot the data in a scatter_matrix to see the distribution of the different variables. "
   ]
  },
  {
   "cell_type": "code",
   "execution_count": 174,
   "metadata": {},
   "outputs": [
    {
     "data": {
      "text/plain": [
       "array([[<matplotlib.axes._subplots.AxesSubplot object at 0x1a275e07d0>,\n",
       "        <matplotlib.axes._subplots.AxesSubplot object at 0x1a275e0990>,\n",
       "        <matplotlib.axes._subplots.AxesSubplot object at 0x1a277a2e10>,\n",
       "        <matplotlib.axes._subplots.AxesSubplot object at 0x1a277d3690>,\n",
       "        <matplotlib.axes._subplots.AxesSubplot object at 0x1a276fff50>,\n",
       "        <matplotlib.axes._subplots.AxesSubplot object at 0x1a27841d90>],\n",
       "       [<matplotlib.axes._subplots.AxesSubplot object at 0x1a27874a50>,\n",
       "        <matplotlib.axes._subplots.AxesSubplot object at 0x1a278af290>,\n",
       "        <matplotlib.axes._subplots.AxesSubplot object at 0x1a278afdd0>,\n",
       "        <matplotlib.axes._subplots.AxesSubplot object at 0x1a278eb790>,\n",
       "        <matplotlib.axes._subplots.AxesSubplot object at 0x1a27950ad0>,\n",
       "        <matplotlib.axes._subplots.AxesSubplot object at 0x1a2798ee50>],\n",
       "       [<matplotlib.axes._subplots.AxesSubplot object at 0x1a279c5b10>,\n",
       "        <matplotlib.axes._subplots.AxesSubplot object at 0x1a27a04e90>,\n",
       "        <matplotlib.axes._subplots.AxesSubplot object at 0x1a27a3ab50>,\n",
       "        <matplotlib.axes._subplots.AxesSubplot object at 0x1a27a7aed0>,\n",
       "        <matplotlib.axes._subplots.AxesSubplot object at 0x1a27aadb90>,\n",
       "        <matplotlib.axes._subplots.AxesSubplot object at 0x1a27aeff10>],\n",
       "       [<matplotlib.axes._subplots.AxesSubplot object at 0x1a27b24bd0>,\n",
       "        <matplotlib.axes._subplots.AxesSubplot object at 0x1a27b64f50>,\n",
       "        <matplotlib.axes._subplots.AxesSubplot object at 0x1a27b9ac10>,\n",
       "        <matplotlib.axes._subplots.AxesSubplot object at 0x1a27bdbf90>,\n",
       "        <matplotlib.axes._subplots.AxesSubplot object at 0x1a27c0fc50>,\n",
       "        <matplotlib.axes._subplots.AxesSubplot object at 0x1a27c4efd0>],\n",
       "       [<matplotlib.axes._subplots.AxesSubplot object at 0x1a27c84c90>,\n",
       "        <matplotlib.axes._subplots.AxesSubplot object at 0x1a27cc54d0>,\n",
       "        <matplotlib.axes._subplots.AxesSubplot object at 0x1a27cf9cd0>,\n",
       "        <matplotlib.axes._subplots.AxesSubplot object at 0x1a27d3a510>,\n",
       "        <matplotlib.axes._subplots.AxesSubplot object at 0x1a27d6fd10>,\n",
       "        <matplotlib.axes._subplots.AxesSubplot object at 0x1a27db1550>],\n",
       "       [<matplotlib.axes._subplots.AxesSubplot object at 0x1a27de5d50>,\n",
       "        <matplotlib.axes._subplots.AxesSubplot object at 0x1a271f10d0>,\n",
       "        <matplotlib.axes._subplots.AxesSubplot object at 0x1a27e57c10>,\n",
       "        <matplotlib.axes._subplots.AxesSubplot object at 0x1a27e8c8d0>,\n",
       "        <matplotlib.axes._subplots.AxesSubplot object at 0x1a27ec6c50>,\n",
       "        <matplotlib.axes._subplots.AxesSubplot object at 0x1a27efa910>]],\n",
       "      dtype=object)"
      ]
     },
     "execution_count": 174,
     "metadata": {},
     "output_type": "execute_result"
    },
    {
     "data": {
      "image/png": "[encoded data removed]",
      "text/plain": [
       "<Figure size 432x288 with 36 Axes>"
      ]
     },
     "metadata": {
      "needs_background": "light"
     },
     "output_type": "display_data"
    }
   ],
   "source": [
    "#Plot the variables using pandas.plotting \n",
    "pdplt.scatter_matrix(brainsize[[\"Gender\",\"FSIQ\",\"VIQ\",\"PIQ\",\"Weight\",\"Height\",\"MRI_Count\"]])"
   ]
  },
  {
   "cell_type": "markdown",
   "metadata": {},
   "source": [
    "**Step 2:** Create a new random variable `partY` of random noise and add it to the `brainsize.csv` data frame. \n",
    "\n",
    "Note: `partY` in this case will be a continuous random variable representing the average amount of time (in minutes) the subject spends outdoors each day (assume this data was collected before COVID-19). We can assume that the subject was asked to indicate the average time rounded to the nearest integer value, so the random values generated for `partY` will range from 0 to 1440 (24 hours in a day * 60 minutes in an hour). "
   ]
  },
  {
   "cell_type": "code",
   "execution_count": 175,
   "metadata": {},
   "outputs": [
    {
     "data": {
      "text/html": [
       "<div>\n",
       "<style scoped>\n",
       "    .dataframe tbody tr th:only-of-type {\n",
       "        vertical-align: middle;\n",
       "    }\n",
       "\n",
       "    .dataframe tbody tr th {\n",
       "        vertical-align: top;\n",
       "    }\n",
       "\n",
       "    .dataframe thead th {\n",
       "        text-align: right;\n",
       "    }\n",
       "</style>\n",
       "<table border=\"1\" class=\"dataframe\">\n",
       "  <thead>\n",
       "    <tr style=\"text-align: right;\">\n",
       "      <th></th>\n",
       "      <th>Gender</th>\n",
       "      <th>FSIQ</th>\n",
       "      <th>VIQ</th>\n",
       "      <th>PIQ</th>\n",
       "      <th>Weight</th>\n",
       "      <th>Height</th>\n",
       "      <th>MRI_Count</th>\n",
       "      <th>partY</th>\n",
       "    </tr>\n",
       "  </thead>\n",
       "  <tbody>\n",
       "    <tr>\n",
       "      <th>1</th>\n",
       "      <td>Female</td>\n",
       "      <td>133</td>\n",
       "      <td>132</td>\n",
       "      <td>124</td>\n",
       "      <td>118.0</td>\n",
       "      <td>64.5</td>\n",
       "      <td>816932</td>\n",
       "      <td>788</td>\n",
       "    </tr>\n",
       "    <tr>\n",
       "      <th>2</th>\n",
       "      <td>Male</td>\n",
       "      <td>140</td>\n",
       "      <td>150</td>\n",
       "      <td>124</td>\n",
       "      <td>NaN</td>\n",
       "      <td>72.5</td>\n",
       "      <td>1001121</td>\n",
       "      <td>861</td>\n",
       "    </tr>\n",
       "    <tr>\n",
       "      <th>3</th>\n",
       "      <td>Male</td>\n",
       "      <td>139</td>\n",
       "      <td>123</td>\n",
       "      <td>150</td>\n",
       "      <td>143.0</td>\n",
       "      <td>73.3</td>\n",
       "      <td>1038437</td>\n",
       "      <td>82</td>\n",
       "    </tr>\n",
       "    <tr>\n",
       "      <th>4</th>\n",
       "      <td>Male</td>\n",
       "      <td>133</td>\n",
       "      <td>129</td>\n",
       "      <td>128</td>\n",
       "      <td>172.0</td>\n",
       "      <td>68.8</td>\n",
       "      <td>965353</td>\n",
       "      <td>530</td>\n",
       "    </tr>\n",
       "    <tr>\n",
       "      <th>5</th>\n",
       "      <td>Female</td>\n",
       "      <td>137</td>\n",
       "      <td>132</td>\n",
       "      <td>134</td>\n",
       "      <td>147.0</td>\n",
       "      <td>65.0</td>\n",
       "      <td>951545</td>\n",
       "      <td>1047</td>\n",
       "    </tr>\n",
       "  </tbody>\n",
       "</table>\n",
       "</div>"
      ],
      "text/plain": [
       "   Gender  FSIQ  VIQ  PIQ  Weight  Height  MRI_Count  partY\n",
       "1  Female   133  132  124   118.0    64.5     816932    788\n",
       "2    Male   140  150  124     NaN    72.5    1001121    861\n",
       "3    Male   139  123  150   143.0    73.3    1038437     82\n",
       "4    Male   133  129  128   172.0    68.8     965353    530\n",
       "5  Female   137  132  134   147.0    65.0     951545   1047"
      ]
     },
     "execution_count": 175,
     "metadata": {},
     "output_type": "execute_result"
    }
   ],
   "source": [
    "#Create an empty array to hold the values for partY\n",
    "partY_values = []\n",
    "\n",
    "#Calculate the number of subjects\n",
    "num_rows = len(brainsize.index)\n",
    "\n",
    "#Set a seed value to get the same random values each time\n",
    "rd.seed(0)\n",
    "\n",
    "#Populate the array with random integer values from 0 to 1440 \n",
    "for i in range(num_rows): \n",
    "    i = rd.randint(0,1440)\n",
    "    partY_values.append(i)\n",
    "\n",
    "#Add the populated array as a column to the data frame and name it \"partY\"\n",
    "brainsize[\"partY\"] = partY_values\n",
    "\n",
    "#Check out the head of the new data frame with \"partY\" added\n",
    "brainsize.head()"
   ]
  },
  {
   "cell_type": "markdown",
   "metadata": {},
   "source": [
    "**_Step 2.1:_** Plot the distribution of the new `partY` variable using `pandas.plotting`.\n",
    "\n",
    "Note: `partY` data is not normally distributed. "
   ]
  },
  {
   "cell_type": "code",
   "execution_count": 176,
   "metadata": {},
   "outputs": [
    {
     "data": {
      "text/plain": [
       "array([[<matplotlib.axes._subplots.AxesSubplot object at 0x1a27f93490>]],\n",
       "      dtype=object)"
      ]
     },
     "execution_count": 176,
     "metadata": {},
     "output_type": "execute_result"
    },
    {
     "data": {
      "image/png": "[encoded data removed]",
      "text/plain": [
       "<Figure size 432x288 with 1 Axes>"
      ]
     },
     "metadata": {
      "needs_background": "light"
     },
     "output_type": "display_data"
    }
   ],
   "source": [
    "pdplt.scatter_matrix(brainsize[[\"partY\"]])"
   ]
  },
  {
   "cell_type": "markdown",
   "metadata": {},
   "source": [
    "**_Step 2.2:_** Generate correlations between the `partY` variable using the existing variables in `brainsize.csv`.\n",
    "\n",
    "Note: To generate correlations with `Weight` and `Height`, we will drop the subjects that have `NaN` values for these variables. This is a form of p-hacking.\n",
    "\n",
    "Another form of p-hacking in this case will be to try multiple correlations but report only ones that have a significant p-value (p < 0.05)."
   ]
  },
  {
   "cell_type": "code",
   "execution_count": 187,
   "metadata": {},
   "outputs": [
    {
     "data": {
      "text/plain": [
       "Ttest_relResult(statistic=79.44262473134104, pvalue=9.470969151961395e-45)"
      ]
     },
     "execution_count": 187,
     "metadata": {},
     "output_type": "execute_result"
    }
   ],
   "source": [
    "#Try out various correlations with partY and ignoring NaN values \n",
    "#Uncomment the correlation you would like to run as only one can be run at a time\n",
    "\n",
    "#FSIQ and partY\n",
    "#scipy.stats.ttest_rel(brainsize[\"FSIQ\"],brainsize[\"partY\"],nan_policy=\"omit\")\n",
    "\n",
    "#VIQ and partY\n",
    "#scipy.stats.ttest_rel(brainsize[\"VIQ\"],brainsize[\"partY\"],nan_policy=\"omit\")\n",
    "\n",
    "#PIQ and partY\n",
    "#scipy.stats.ttest_rel(brainsize[\"PIQ\"],brainsize[\"partY\"],nan_policy=\"omit\")\n",
    "\n",
    "#Weight and partY\n",
    "#scipy.stats.ttest_rel(brainsize[\"Weight\"],brainsize[\"partY\"],nan_policy=\"omit\")\n",
    "\n",
    "#Height and partY\n",
    "#scipy.stats.ttest_rel(brainsize[\"Height\"],brainsize[\"partY\"],nan_policy=\"omit\")\n",
    "\n",
    "#MRI_Count and partY\n",
    "#scipy.stats.ttest_rel(brainsize[\"MRI_Count\"],brainsize[\"partY\"],nan_policy=\"omit\")"
   ]
  },
  {
   "cell_type": "markdown",
   "metadata": {},
   "source": [
    "**_Step 2.3:_** Plot the outcome of the most significant correlation (in this case, `MRI_Count` and `partY`), taking gender into account. "
   ]
  },
  {
   "cell_type": "code",
   "execution_count": 213,
   "metadata": {},
   "outputs": [
    {
     "data": {
      "text/plain": [
       "array([[<matplotlib.axes._subplots.AxesSubplot object at 0x1a290336d0>,\n",
       "        <matplotlib.axes._subplots.AxesSubplot object at 0x1a28e57c50>],\n",
       "       [<matplotlib.axes._subplots.AxesSubplot object at 0x1a291a16d0>,\n",
       "        <matplotlib.axes._subplots.AxesSubplot object at 0x1a291d5ed0>]],\n",
       "      dtype=object)"
      ]
     },
     "execution_count": 213,
     "metadata": {},
     "output_type": "execute_result"
    },
    {
     "data": {
      "image/png": "[encoded data removed]",
      "text/plain": [
       "<Figure size 432x288 with 4 Axes>"
      ]
     },
     "metadata": {
      "needs_background": "light"
     },
     "output_type": "display_data"
    }
   ],
   "source": [
    "pdplt.scatter_matrix(brainsize[[\"MRI_Count\",\"partY\"]],\n",
    "                        c=(brainsize[\"Gender\"] == 'Female'), marker=\"o\",\n",
    "                        alpha=1, cmap=\"winter\")"
   ]
  },
  {
   "cell_type": "markdown",
   "metadata": {},
   "source": [
    "**Step 3:** Create another random variable `partY2` of random noise and add it to the `brainsize.csv` data frame. `partY2` will have the same distribution as `partY` because it will be generated using the same random integer function `random.randit`; however, it will use a different seed value. \n",
    "\n",
    "Note: `partY2` in this case will be a continuous random variable representing the average number of calories consumed by the subject each day (assume this data was collected before COVID-19). We can assume that the subject was asked to indicate the average number of calories rounded to the nearest integer value, so the random values generated for partY will range from 500 (all subjects assumed to not be fasting) to 2000 (recommended daily number of calories)."
   ]
  },
  {
   "cell_type": "code",
   "execution_count": 178,
   "metadata": {},
   "outputs": [
    {
     "data": {
      "text/html": [
       "<div>\n",
       "<style scoped>\n",
       "    .dataframe tbody tr th:only-of-type {\n",
       "        vertical-align: middle;\n",
       "    }\n",
       "\n",
       "    .dataframe tbody tr th {\n",
       "        vertical-align: top;\n",
       "    }\n",
       "\n",
       "    .dataframe thead th {\n",
       "        text-align: right;\n",
       "    }\n",
       "</style>\n",
       "<table border=\"1\" class=\"dataframe\">\n",
       "  <thead>\n",
       "    <tr style=\"text-align: right;\">\n",
       "      <th></th>\n",
       "      <th>Gender</th>\n",
       "      <th>FSIQ</th>\n",
       "      <th>VIQ</th>\n",
       "      <th>PIQ</th>\n",
       "      <th>Weight</th>\n",
       "      <th>Height</th>\n",
       "      <th>MRI_Count</th>\n",
       "      <th>partY</th>\n",
       "      <th>partY2</th>\n",
       "    </tr>\n",
       "  </thead>\n",
       "  <tbody>\n",
       "    <tr>\n",
       "      <th>1</th>\n",
       "      <td>Female</td>\n",
       "      <td>133</td>\n",
       "      <td>132</td>\n",
       "      <td>124</td>\n",
       "      <td>118.0</td>\n",
       "      <td>64.5</td>\n",
       "      <td>816932</td>\n",
       "      <td>788</td>\n",
       "      <td>798</td>\n",
       "    </tr>\n",
       "    <tr>\n",
       "      <th>2</th>\n",
       "      <td>Male</td>\n",
       "      <td>140</td>\n",
       "      <td>150</td>\n",
       "      <td>124</td>\n",
       "      <td>NaN</td>\n",
       "      <td>72.5</td>\n",
       "      <td>1001121</td>\n",
       "      <td>861</td>\n",
       "      <td>1441</td>\n",
       "    </tr>\n",
       "    <tr>\n",
       "      <th>3</th>\n",
       "      <td>Male</td>\n",
       "      <td>139</td>\n",
       "      <td>123</td>\n",
       "      <td>150</td>\n",
       "      <td>143.0</td>\n",
       "      <td>73.3</td>\n",
       "      <td>1038437</td>\n",
       "      <td>82</td>\n",
       "      <td>1431</td>\n",
       "    </tr>\n",
       "    <tr>\n",
       "      <th>4</th>\n",
       "      <td>Male</td>\n",
       "      <td>133</td>\n",
       "      <td>129</td>\n",
       "      <td>128</td>\n",
       "      <td>172.0</td>\n",
       "      <td>68.8</td>\n",
       "      <td>965353</td>\n",
       "      <td>530</td>\n",
       "      <td>857</td>\n",
       "    </tr>\n",
       "    <tr>\n",
       "      <th>5</th>\n",
       "      <td>Female</td>\n",
       "      <td>137</td>\n",
       "      <td>132</td>\n",
       "      <td>134</td>\n",
       "      <td>147.0</td>\n",
       "      <td>65.0</td>\n",
       "      <td>951545</td>\n",
       "      <td>1047</td>\n",
       "      <td>1944</td>\n",
       "    </tr>\n",
       "  </tbody>\n",
       "</table>\n",
       "</div>"
      ],
      "text/plain": [
       "   Gender  FSIQ  VIQ  PIQ  Weight  Height  MRI_Count  partY  partY2\n",
       "1  Female   133  132  124   118.0    64.5     816932    788     798\n",
       "2    Male   140  150  124     NaN    72.5    1001121    861    1441\n",
       "3    Male   139  123  150   143.0    73.3    1038437     82    1431\n",
       "4    Male   133  129  128   172.0    68.8     965353    530     857\n",
       "5  Female   137  132  134   147.0    65.0     951545   1047    1944"
      ]
     },
     "execution_count": 178,
     "metadata": {},
     "output_type": "execute_result"
    }
   ],
   "source": [
    "#Create an empty array to hold the values for partY\n",
    "partY2_values = []\n",
    "\n",
    "#Calculate the number of subjects\n",
    "num_rows = len(brainsize.index)\n",
    "\n",
    "#Set a seed value to get the same random values each time\n",
    "rd.seed(100)\n",
    "\n",
    "#Populate the array with random integer values from 500 to 2000 \n",
    "for i in range(num_rows): \n",
    "    i = rd.randint(500,2000)\n",
    "    partY2_values.append(i)\n",
    "\n",
    "#Add the populated array as a column to the data frame and name it \"partY\"\n",
    "brainsize[\"partY2\"] = partY2_values\n",
    "\n",
    "#Check out the head of the new data frame with \"partY\" added\n",
    "brainsize.head()"
   ]
  },
  {
   "cell_type": "markdown",
   "metadata": {},
   "source": [
    "**_Step 3.1:_** Plot the distribution of the new `partY2` variable using pandas.plotting.\n",
    "\n",
    "Note: `partY2` data is not normally distributed."
   ]
  },
  {
   "cell_type": "code",
   "execution_count": 179,
   "metadata": {},
   "outputs": [
    {
     "data": {
      "text/plain": [
       "array([[<matplotlib.axes._subplots.AxesSubplot object at 0x1a28302a10>]],\n",
       "      dtype=object)"
      ]
     },
     "execution_count": 179,
     "metadata": {},
     "output_type": "execute_result"
    },
    {
     "data": {
      "image/png": "[encoded data removed]",
      "text/plain": [
       "<Figure size 432x288 with 1 Axes>"
      ]
     },
     "metadata": {
      "needs_background": "light"
     },
     "output_type": "display_data"
    }
   ],
   "source": [
    "pdplt.scatter_matrix(brainsize[[\"partY2\"]])"
   ]
  },
  {
   "cell_type": "markdown",
   "metadata": {},
   "source": [
    "**_Step 3.2:_** Generate correlations between the `partY2` variable using the existing variables in `brainsize.csv`.\n",
    "\n",
    "Note: To generate correlations with `Weight` and `Height`, we will continue to exclude the subjects that have `NaN` values for these variables as a form of p-hacking.\n",
    "\n",
    "Another form of p-hacking in this case will be to once again try multiple correlations but report only ones that have a significant p-value (p < 0.05)."
   ]
  },
  {
   "cell_type": "code",
   "execution_count": 194,
   "metadata": {},
   "outputs": [],
   "source": [
    "#Try out various correlations with partY2 and ignoring NaN values \n",
    "#Uncomment the correlation you would like to run as only one can be run at a time\n",
    "\n",
    "#FSIQ and partY2\n",
    "#scipy.stats.ttest_rel(brainsize[\"FSIQ\"],brainsize[\"partY2\"],nan_policy=\"omit\")\n",
    "\n",
    "#VIQ and partY2\n",
    "#scipy.stats.ttest_rel(brainsize[\"VIQ\"],brainsize[\"partY2\"],nan_policy=\"omit\")\n",
    "\n",
    "#PIQ and partY2\n",
    "#scipy.stats.ttest_rel(brainsize[\"PIQ\"],brainsize[\"partY2\"],nan_policy=\"omit\")\n",
    "\n",
    "#Weight and partY2\n",
    "#scipy.stats.ttest_rel(brainsize[\"Weight\"],brainsize[\"partY2\"],nan_policy=\"omit\")\n",
    "\n",
    "#Height and partY2\n",
    "#scipy.stats.ttest_rel(brainsize[\"Height\"],brainsize[\"partY2\"],nan_policy=\"omit\")\n",
    "\n",
    "#MRI_Count and partY2\n",
    "#scipy.stats.ttest_rel(brainsize[\"MRI_Count\"],brainsize[\"partY2\"],nan_policy=\"omit\")"
   ]
  },
  {
   "cell_type": "markdown",
   "metadata": {},
   "source": [
    "**_Step 3.3:_** Plot the outcome of the most significant correlation (in this case, `MRI_Count` and `partY2`), taking gender into account. "
   ]
  },
  {
   "cell_type": "code",
   "execution_count": 214,
   "metadata": {},
   "outputs": [
    {
     "data": {
      "text/plain": [
       "array([[<matplotlib.axes._subplots.AxesSubplot object at 0x1a29281fd0>,\n",
       "        <matplotlib.axes._subplots.AxesSubplot object at 0x1a29287bd0>],\n",
       "       [<matplotlib.axes._subplots.AxesSubplot object at 0x1a29393550>,\n",
       "        <matplotlib.axes._subplots.AxesSubplot object at 0x1a293c8d50>]],\n",
       "      dtype=object)"
      ]
     },
     "execution_count": 214,
     "metadata": {},
     "output_type": "execute_result"
    },
    {
     "data": {
      "image/png": "[encoded data removed]",
      "text/plain": [
       "<Figure size 432x288 with 4 Axes>"
      ]
     },
     "metadata": {
      "needs_background": "light"
     },
     "output_type": "display_data"
    }
   ],
   "source": [
    "pdplt.scatter_matrix(brainsize[[\"MRI_Count\",\"partY2\"]],\n",
    "                        c=(brainsize[\"Gender\"] == 'Female'), marker=\"o\",\n",
    "                        alpha=1, cmap=\"winter\")"
   ]
  },
  {
   "cell_type": "code",
   "execution_count": null,
   "metadata": {},
   "outputs": [],
   "source": []
  }
 ],
 "metadata": {
  "kernelspec": {
   "display_name": "Python 3",
   "language": "python",
   "name": "python3"
  },
  "language_info": {
   "codemirror_mode": {
    "name": "ipython",
    "version": 3
   },
   "file_extension": ".py",
   "mimetype": "text/x-python",
   "name": "python",
   "nbconvert_exporter": "python",
   "pygments_lexer": "ipython3",
   "version": "3.7.6"
  }
 },
 "nbformat": 4,
 "nbformat_minor": 4
}
